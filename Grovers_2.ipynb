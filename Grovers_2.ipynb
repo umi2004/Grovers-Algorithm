{
 "cells": [
  {
   "cell_type": "markdown",
   "id": "9e18de9b-e577-408d-923f-29281bd21984",
   "metadata": {},
   "source": [
    "# Grovers Algorithm"
   ]
  },
  {
   "cell_type": "code",
   "execution_count": 1,
   "id": "a905c4db-57ad-4d6a-bdeb-09292bb650cb",
   "metadata": {},
   "outputs": [],
   "source": [
    "my_list = [1, 3, 5, 2, 4, 8, 5, 8, 0, 7, 6]\n",
    "\n",
    "# How to find 7? \n",
    "\n",
    "# We use Oracle to find it. Oracle is black box to ask whether it is 7 or not\n",
    "\n",
    "def the_oracle(my_input):\n",
    "    winner = 7\n",
    "    if my_input is winner:\n",
    "        response = True\n",
    "    else:\n",
    "        response = False\n",
    "    return response"
   ]
  },
  {
   "cell_type": "code",
   "execution_count": 4,
   "id": "fcc5363a-ab4d-4304-ae39-8302b25d0366",
   "metadata": {},
   "outputs": [
    {
     "name": "stdout",
     "output_type": "stream",
     "text": [
      "Winner found at index 9\n",
      "10 calls to the Oracle used\n"
     ]
    }
   ],
   "source": [
    "for index, trial_number in enumerate(my_list):\n",
    "    if the_oracle(trial_number) is True:\n",
    "        print('Winner found at index %i'%index)\n",
    "        print('%i calls to the Oracle used' %(index+1))\n",
    "        break"
   ]
  },
  {
   "cell_type": "markdown",
   "id": "d4b4e66f-82c7-447b-9974-2e09c1b8380a",
   "metadata": {},
   "source": [
    "### Results\n",
    "\n",
    "In the classical case, we need to search for every single number in my_list, which means that it will take O(N) as a time complexity. \n",
    "\n",
    "Instead, in Quantum Computing, this will change it to O($\\sqrt(N)$), which is more efficient than classical computing.mm "
   ]
  },
  {
   "cell_type": "markdown",
   "id": "f27b7d94-95ca-49da-a900-fdf41ea69322",
   "metadata": {},
   "source": [
    "### Oracle\n",
    "Oracle in Quantum Computing is simply flip over the sign if it's the winner.  \n",
    "This can be done by Controlled Z gate. \n",
    "\n",
    "We also need one more ingredient which is called **Amplitude Amplification** or specifically Reflection. \n",
    "\n",
    "By combining Oracle and Reflection which we called **Grover's Diffusion Operator**\n"
   ]
  },
  {
   "cell_type": "code",
   "execution_count": 5,
   "id": "60036700-0a36-4497-93b7-62468b89d0dd",
   "metadata": {},
   "outputs": [],
   "source": [
    "from qiskit import *\n",
    "import matplotlib.pyplot as plt\n",
    "import numpy as np"
   ]
  },
  {
   "cell_type": "code",
   "execution_count": 6,
   "id": "9122905a-93b3-47d1-ac95-3a1081bb2371",
   "metadata": {},
   "outputs": [
    {
     "data": {
      "text/html": [
       "<pre style=\"word-wrap: normal;white-space: pre;background: #fff0;line-height: 1.1;font-family: &quot;Courier New&quot;,Courier,monospace\">        \n",
       "q_0: ─■─\n",
       "      │ \n",
       "q_1: ─■─\n",
       "        </pre>"
      ],
      "text/plain": [
       "        \n",
       "q_0: ─■─\n",
       "      │ \n",
       "q_1: ─■─\n",
       "        "
      ]
     },
     "execution_count": 6,
     "metadata": {},
     "output_type": "execute_result"
    }
   ],
   "source": [
    "# Define the oracle circuit\n",
    "oracle = QuantumCircuit(2, name = 'oracle')\n",
    "oracle.cz(0, 1)\n",
    "oracle.to_gate()\n",
    "oracle.draw()"
   ]
  },
  {
   "cell_type": "code",
   "execution_count": 7,
   "id": "7ec49e3b-e9f4-436a-9dbd-32ac6a5ab78c",
   "metadata": {},
   "outputs": [
    {
     "data": {
      "text/html": [
       "<pre style=\"word-wrap: normal;white-space: pre;background: #fff0;line-height: 1.1;font-family: &quot;Courier New&quot;,Courier,monospace\">     ┌───┐┌─────────┐\n",
       "q_0: ┤ H ├┤0        ├\n",
       "     ├───┤│  oracle │\n",
       "q_1: ┤ H ├┤1        ├\n",
       "     └───┘└─────────┘\n",
       "c: 2/════════════════\n",
       "                     </pre>"
      ],
      "text/plain": [
       "     ┌───┐┌─────────┐\n",
       "q_0: ┤ H ├┤0        ├\n",
       "     ├───┤│  oracle │\n",
       "q_1: ┤ H ├┤1        ├\n",
       "     └───┘└─────────┘\n",
       "c: 2/════════════════\n",
       "                     "
      ]
     },
     "execution_count": 7,
     "metadata": {},
     "output_type": "execute_result"
    }
   ],
   "source": [
    "# To verify that oracle doing right things we call Aer \n",
    "backend = Aer.get_backend('statevector_simulator')\n",
    "grover_circ = QuantumCircuit(2,2)\n",
    "grover_circ.h([0,1]) # Hadamard to qubit 0 and 1 \n",
    "grover_circ.append(oracle, [0,1])\n",
    "grover_circ.draw()"
   ]
  },
  {
   "cell_type": "code",
   "execution_count": 9,
   "id": "b899fe56-bf56-4339-80fe-201eb0a43195",
   "metadata": {},
   "outputs": [
    {
     "data": {
      "text/plain": [
       "array([ 0.5+0.j,  0.5+0.j,  0.5+0.j, -0.5+0.j])"
      ]
     },
     "execution_count": 9,
     "metadata": {},
     "output_type": "execute_result"
    }
   ],
   "source": [
    "job = execute(grover_circ, backend)\n",
    "result = job.result()\n",
    "\n",
    "state_vector = result.get_statevector()\n",
    "np.around(state_vector, 2)\n",
    "\n",
    "#This is where we made the orthogonal states from the winner vector. "
   ]
  },
  {
   "cell_type": "markdown",
   "id": "19b271a6-b5e0-4e28-a7ac-e8de628b16c7",
   "metadata": {},
   "source": [
    "From this results, we need to find the probability of getting for the highest which is the winner by squaring the state factor by using hermitian conjugate. "
   ]
  },
  {
   "cell_type": "code",
   "execution_count": 11,
   "id": "364b8445-795d-4231-ae9d-6020fbbeb99c",
   "metadata": {},
   "outputs": [
    {
     "data": {
      "text/html": [
       "<pre style=\"word-wrap: normal;white-space: pre;background: #fff0;line-height: 1.1;font-family: &quot;Courier New&quot;,Courier,monospace\">     ┌───┐┌───┐   ┌───┐\n",
       "q_0: ┤ H ├┤ Z ├─■─┤ H ├\n",
       "     ├───┤├───┤ │ ├───┤\n",
       "q_1: ┤ H ├┤ Z ├─■─┤ H ├\n",
       "     └───┘└───┘   └───┘</pre>"
      ],
      "text/plain": [
       "     ┌───┐┌───┐   ┌───┐\n",
       "q_0: ┤ H ├┤ Z ├─■─┤ H ├\n",
       "     ├───┤├───┤ │ ├───┤\n",
       "q_1: ┤ H ├┤ Z ├─■─┤ H ├\n",
       "     └───┘└───┘   └───┘"
      ]
     },
     "execution_count": 11,
     "metadata": {},
     "output_type": "execute_result"
    }
   ],
   "source": [
    "# Reflection Operator (Amplifying the probability of the winning state and reducing the non-winning state probability\n",
    "# Reflection Operator define as this |s><s| - identity matrix. \n",
    "# This helps to bring it back to all positive vector which helps to closer to the winner vector. \n",
    "\n",
    "reflection = QuantumCircuit(2, name = \"reflection\")\n",
    "reflection.h([0, 1])\n",
    "reflection.z([0, 1])\n",
    "reflection.cz(0,1) # this helps to transform into negative states\n",
    "reflection.h([0, 1]) # bring it back to positive \n",
    "reflection.to_gate()\n",
    "\n",
    "reflection.draw()"
   ]
  },
  {
   "cell_type": "code",
   "execution_count": 13,
   "id": "bbafb41d-b039-4c92-92d6-7767f7c45d49",
   "metadata": {},
   "outputs": [
    {
     "data": {
      "text/html": [
       "<pre style=\"word-wrap: normal;white-space: pre;background: #fff0;line-height: 1.1;font-family: &quot;Courier New&quot;,Courier,monospace\">     ┌───┐┌─────────┐┌─────────────┐┌─┐   \n",
       "q_0: ┤ H ├┤0        ├┤0            ├┤M├───\n",
       "     ├───┤│  oracle ││  reflection │└╥┘┌─┐\n",
       "q_1: ┤ H ├┤1        ├┤1            ├─╫─┤M├\n",
       "     └───┘└─────────┘└─────────────┘ ║ └╥┘\n",
       "c: 2/════════════════════════════════╩══╩═\n",
       "                                     0  1 </pre>"
      ],
      "text/plain": [
       "     ┌───┐┌─────────┐┌─────────────┐┌─┐   \n",
       "q_0: ┤ H ├┤0        ├┤0            ├┤M├───\n",
       "     ├───┤│  oracle ││  reflection │└╥┘┌─┐\n",
       "q_1: ┤ H ├┤1        ├┤1            ├─╫─┤M├\n",
       "     └───┘└─────────┘└─────────────┘ ║ └╥┘\n",
       "c: 2/════════════════════════════════╩══╩═\n",
       "                                     0  1 "
      ]
     },
     "execution_count": 13,
     "metadata": {},
     "output_type": "execute_result"
    }
   ],
   "source": [
    "backend = Aer.get_backend(\"qasm_simulator\")\n",
    "grover_circ = QuantumCircuit(2,2)\n",
    "grover_circ.h([0,1])\n",
    "grover_circ.append(oracle, [0,1])\n",
    "grover_circ.append(reflection, [0,1])\n",
    "grover_circ.measure([0,1], [0,1])\n",
    "\n",
    "grover_circ.draw()"
   ]
  },
  {
   "cell_type": "markdown",
   "id": "8325ef5b-26f4-46c1-8390-345ce551a3ed",
   "metadata": {},
   "source": [
    "The above circuit shows that we first prepared superposition state by two Hadamard Gates. Then, add oracle operator and reflection operator to bring it back to positive states. Then after measure we should get 11 state"
   ]
  },
  {
   "cell_type": "code",
   "execution_count": null,
   "id": "2c8543a1-7a6d-4ea2-90f5-301e267cef3f",
   "metadata": {},
   "outputs": [],
   "source": [
    "job = e"
   ]
  }
 ],
 "metadata": {
  "kernelspec": {
   "display_name": "Python 3 (ipykernel)",
   "language": "python",
   "name": "python3"
  },
  "language_info": {
   "codemirror_mode": {
    "name": "ipython",
    "version": 3
   },
   "file_extension": ".py",
   "mimetype": "text/x-python",
   "name": "python",
   "nbconvert_exporter": "python",
   "pygments_lexer": "ipython3",
   "version": "3.10.5"
  }
 },
 "nbformat": 4,
 "nbformat_minor": 5
}
